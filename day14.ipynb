{
 "cells": [
  {
   "cell_type": "markdown",
   "metadata": {},
   "source": [
    "## part 1 ##"
   ]
  },
  {
   "cell_type": "code",
   "execution_count": 1,
   "metadata": {},
   "outputs": [],
   "source": [
    "bitsize = 36"
   ]
  },
  {
   "cell_type": "code",
   "execution_count": 2,
   "metadata": {},
   "outputs": [],
   "source": [
    "ex = '''mask = XXXXXXXXXXXXXXXXXXXXXXXXXXXXX1XXXX0X\n",
    "mem[8] = 11\n",
    "mem[7] = 101\n",
    "mem[8] = 0'''.strip().split('\\n')"
   ]
  },
  {
   "cell_type": "code",
   "execution_count": 3,
   "metadata": {},
   "outputs": [
    {
     "data": {
      "text/plain": [
       "('0b1011', 11)"
      ]
     },
     "execution_count": 3,
     "metadata": {},
     "output_type": "execute_result"
    }
   ],
   "source": [
    "bin(11), int('1011', base=2)"
   ]
  },
  {
   "cell_type": "code",
   "execution_count": 4,
   "metadata": {},
   "outputs": [],
   "source": [
    "def get_masks(maskstr):\n",
    "    '''Break the mask string into two maks '''\n",
    "    ones = []\n",
    "    zeros = []\n",
    "    for c in maskstr.strip():\n",
    "        if c == 'X':\n",
    "            ones.append('0')\n",
    "            zeros.append('1')\n",
    "        elif c == '1':\n",
    "            ones.append('1')\n",
    "            zeros.append('1')\n",
    "        elif c == '0':\n",
    "            ones.append('0')\n",
    "            zeros.append('0')\n",
    "        else:\n",
    "            raise ValueError(f'Value not allowed: {c}')\n",
    "    ones = ''.join(ones)\n",
    "    zeros = ''.join(zeros)\n",
    "    return(int(ones, base=2), int(zeros, base=2))"
   ]
  },
  {
   "cell_type": "code",
   "execution_count": 5,
   "metadata": {},
   "outputs": [
    {
     "data": {
      "text/plain": [
       "(64, 68719476733)"
      ]
     },
     "execution_count": 5,
     "metadata": {},
     "output_type": "execute_result"
    }
   ],
   "source": [
    "get_masks('XXXXXXXXXXXXXXXXXXXXXXXXXXXXX1XXXX0X')"
   ]
  },
  {
   "cell_type": "code",
   "execution_count": 6,
   "metadata": {},
   "outputs": [],
   "source": [
    "def apply_masks(ones, zeros, num):\n",
    "    return zeros & (ones | num)"
   ]
  },
  {
   "cell_type": "code",
   "execution_count": 7,
   "metadata": {},
   "outputs": [],
   "source": [
    "assert(73 == apply_masks(64, 68719476733, 11))\n",
    "assert(101 == apply_masks(64, 68719476733, 101))\n",
    "assert(64 == apply_masks(64, 68719476733, 0))"
   ]
  },
  {
   "cell_type": "code",
   "execution_count": 8,
   "metadata": {},
   "outputs": [],
   "source": [
    "def process(lines):\n",
    "    mem = {}\n",
    "    setones, setzeros = get_masks('XXXXXXXXXXXXXXXXXXXXXXXXXXXXXXXXXXXX')\n",
    "    for line in lines:\n",
    "        if 'mask' in line:\n",
    "            maskstr = line.split('=')[1].strip()\n",
    "            setones, setzeros = get_masks(maskstr)\n",
    "        elif 'mem' in line:\n",
    "            lhs, rhs = line.strip().split('=')\n",
    "            loc = int(lhs[lhs.rindex('[')+1:lhs.rindex(']')])\n",
    "            val = int(rhs.strip())\n",
    "            mem[loc] = apply_masks(setones, setzeros, val)\n",
    "        else:\n",
    "            raise ValueError(f'Bad line: {line}')\n",
    "    return sum(mem[loc] for loc in mem)"
   ]
  },
  {
   "cell_type": "code",
   "execution_count": 9,
   "metadata": {},
   "outputs": [
    {
     "data": {
      "text/plain": [
       "165"
      ]
     },
     "execution_count": 9,
     "metadata": {},
     "output_type": "execute_result"
    }
   ],
   "source": [
    "process(ex)"
   ]
  },
  {
   "cell_type": "code",
   "execution_count": 10,
   "metadata": {},
   "outputs": [],
   "source": [
    "with open('inputs/day14.input') as fp:\n",
    "    data = fp.readlines()"
   ]
  },
  {
   "cell_type": "code",
   "execution_count": 11,
   "metadata": {},
   "outputs": [
    {
     "data": {
      "text/plain": [
       "14954914379452"
      ]
     },
     "execution_count": 11,
     "metadata": {},
     "output_type": "execute_result"
    }
   ],
   "source": [
    "process(data)"
   ]
  },
  {
   "cell_type": "markdown",
   "metadata": {},
   "source": [
    "## part 2 ##"
   ]
  },
  {
   "cell_type": "code",
   "execution_count": 12,
   "metadata": {},
   "outputs": [],
   "source": [
    "ex2 = '''mask = 000000000000000000000000000000X1001X\n",
    "mem[42] = 100\n",
    "mask = 00000000000000000000000000000000X0XX\n",
    "mem[26] = 1'''.strip().split('\\n')"
   ]
  },
  {
   "cell_type": "code",
   "execution_count": 13,
   "metadata": {},
   "outputs": [],
   "source": [
    "import itertools"
   ]
  },
  {
   "cell_type": "code",
   "execution_count": 14,
   "metadata": {},
   "outputs": [],
   "source": [
    "def masked_locations(maskstr, loc):\n",
    "    loc = format(loc, '036b') # binary 36-digit string\n",
    "    s = []\n",
    "    for i, c in enumerate(maskstr):\n",
    "        if c == '0':\n",
    "            s.append(loc[i])\n",
    "        elif c == '1':\n",
    "            s.append('1')\n",
    "        elif c == 'X':\n",
    "            s.append(['0', '1'])\n",
    "        else:\n",
    "            raise ValueError(f'Invalid value: {c}')\n",
    "    newlocs = [int(''.join(p), base=2) for p in itertools.product(*s)]\n",
    "    return newlocs"
   ]
  },
  {
   "cell_type": "code",
   "execution_count": 15,
   "metadata": {},
   "outputs": [
    {
     "data": {
      "text/plain": [
       "[26, 27, 58, 59]"
      ]
     },
     "execution_count": 15,
     "metadata": {},
     "output_type": "execute_result"
    }
   ],
   "source": [
    "masked_locations('000000000000000000000000000000X1001X', 42)"
   ]
  },
  {
   "cell_type": "code",
   "execution_count": 16,
   "metadata": {},
   "outputs": [],
   "source": [
    "def process2(lines):\n",
    "    mem = {}\n",
    "    maskstr = format(0, '036b')\n",
    "    for line in lines:\n",
    "        if 'mask' in line:\n",
    "            maskstr = line.split('=')[1].strip()\n",
    "        elif 'mem' in line:\n",
    "            lhs, rhs = line.strip().split('=')\n",
    "            loc = int(lhs[lhs.rindex('[')+1:lhs.rindex(']')])\n",
    "            val = int(rhs.strip())\n",
    "            newlocs = masked_locations(maskstr, loc)\n",
    "            for x in newlocs:\n",
    "                mem[x] = val\n",
    "        else:\n",
    "            raise ValueError(f'Bad line: {line}')\n",
    "    return sum(mem[loc] for loc in mem)    "
   ]
  },
  {
   "cell_type": "code",
   "execution_count": 17,
   "metadata": {},
   "outputs": [
    {
     "data": {
      "text/plain": [
       "208"
      ]
     },
     "execution_count": 17,
     "metadata": {},
     "output_type": "execute_result"
    }
   ],
   "source": [
    "process2(ex2)"
   ]
  },
  {
   "cell_type": "code",
   "execution_count": 18,
   "metadata": {},
   "outputs": [
    {
     "data": {
      "text/plain": [
       "3415488160714"
      ]
     },
     "execution_count": 18,
     "metadata": {},
     "output_type": "execute_result"
    }
   ],
   "source": [
    "process2(data)"
   ]
  },
  {
   "cell_type": "code",
   "execution_count": null,
   "metadata": {},
   "outputs": [],
   "source": []
  }
 ],
 "metadata": {
  "kernelspec": {
   "display_name": "Python 3",
   "language": "python",
   "name": "python3"
  },
  "language_info": {
   "codemirror_mode": {
    "name": "ipython",
    "version": 3
   },
   "file_extension": ".py",
   "mimetype": "text/x-python",
   "name": "python",
   "nbconvert_exporter": "python",
   "pygments_lexer": "ipython3",
   "version": "3.9.0"
  }
 },
 "nbformat": 4,
 "nbformat_minor": 4
}
