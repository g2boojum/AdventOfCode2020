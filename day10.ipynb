{
 "cells": [
  {
   "cell_type": "markdown",
   "metadata": {},
   "source": [
    "## part 1 ##"
   ]
  },
  {
   "cell_type": "code",
   "execution_count": 9,
   "metadata": {},
   "outputs": [
    {
     "data": {
      "text/plain": [
       "[0, 1, 4, 5, 6, 7, 10, 11, 12, 15, 16, 19, 22]"
      ]
     },
     "execution_count": 9,
     "metadata": {},
     "output_type": "execute_result"
    }
   ],
   "source": [
    "ex = sorted([16,10,15,5,1,11,7,19,6,12,4])\n",
    "ex.insert(0,0)\n",
    "exmax = ex[-1]\n",
    "ex.append(exmax+3)\n",
    "ex"
   ]
  },
  {
   "cell_type": "code",
   "execution_count": 13,
   "metadata": {},
   "outputs": [],
   "source": [
    "import collections\n",
    "import numpy as np"
   ]
  },
  {
   "cell_type": "code",
   "execution_count": 17,
   "metadata": {},
   "outputs": [
    {
     "data": {
      "text/plain": [
       "Counter({1: 7, 3: 5})"
      ]
     },
     "execution_count": 17,
     "metadata": {},
     "output_type": "execute_result"
    }
   ],
   "source": [
    "cex = collections.Counter(np.diff(ex))\n",
    "cex"
   ]
  },
  {
   "cell_type": "code",
   "execution_count": 10,
   "metadata": {},
   "outputs": [
    {
     "data": {
      "text/plain": [
       "[0,\n",
       " 1,\n",
       " 2,\n",
       " 3,\n",
       " 4,\n",
       " 7,\n",
       " 8,\n",
       " 9,\n",
       " 10,\n",
       " 11,\n",
       " 14,\n",
       " 17,\n",
       " 18,\n",
       " 19,\n",
       " 20,\n",
       " 23,\n",
       " 24,\n",
       " 25,\n",
       " 28,\n",
       " 31,\n",
       " 32,\n",
       " 33,\n",
       " 34,\n",
       " 35,\n",
       " 38,\n",
       " 39,\n",
       " 42,\n",
       " 45,\n",
       " 46,\n",
       " 47,\n",
       " 48,\n",
       " 49,\n",
       " 52]"
      ]
     },
     "execution_count": 10,
     "metadata": {},
     "output_type": "execute_result"
    }
   ],
   "source": [
    "ex2 = sorted([int(s) for s in '''28\n",
    "33\n",
    "18\n",
    "42\n",
    "31\n",
    "14\n",
    "46\n",
    "20\n",
    "48\n",
    "47\n",
    "24\n",
    "23\n",
    "49\n",
    "45\n",
    "19\n",
    "38\n",
    "39\n",
    "11\n",
    "1\n",
    "32\n",
    "25\n",
    "35\n",
    "8\n",
    "17\n",
    "7\n",
    "9\n",
    "4\n",
    "2\n",
    "34\n",
    "10\n",
    "3\n",
    "'''.strip().split('\\n')])\n",
    "ex2max = ex2[-1]\n",
    "ex2.insert(0,0)\n",
    "ex2.append(ex2max + 3)\n",
    "ex2"
   ]
  },
  {
   "cell_type": "code",
   "execution_count": 18,
   "metadata": {},
   "outputs": [
    {
     "data": {
      "text/plain": [
       "Counter({1: 22, 3: 10})"
      ]
     },
     "execution_count": 18,
     "metadata": {},
     "output_type": "execute_result"
    }
   ],
   "source": [
    "cex2 = collections.Counter(np.diff(ex2))\n",
    "cex2"
   ]
  },
  {
   "cell_type": "code",
   "execution_count": 24,
   "metadata": {},
   "outputs": [],
   "source": [
    "with open('inputs/day10.input') as fp:\n",
    "    data = sorted(int(s) for s in fp.read().strip().split('\\n'))\n",
    "datamax = data[-1]\n",
    "data.insert(0,0)\n",
    "data.append(datamax+3)"
   ]
  },
  {
   "cell_type": "code",
   "execution_count": 26,
   "metadata": {},
   "outputs": [
    {
     "data": {
      "text/plain": [
       "Counter({1: 70, 3: 27})"
      ]
     },
     "execution_count": 26,
     "metadata": {},
     "output_type": "execute_result"
    }
   ],
   "source": [
    "cdata = collections.Counter(np.diff(data))\n",
    "cdata"
   ]
  },
  {
   "cell_type": "code",
   "execution_count": 27,
   "metadata": {},
   "outputs": [
    {
     "data": {
      "text/plain": [
       "1890"
      ]
     },
     "execution_count": 27,
     "metadata": {},
     "output_type": "execute_result"
    }
   ],
   "source": [
    "cdata[1]*cdata[3]"
   ]
  },
  {
   "cell_type": "markdown",
   "metadata": {},
   "source": [
    "## part 2 ##"
   ]
  },
  {
   "cell_type": "code",
   "execution_count": 28,
   "metadata": {},
   "outputs": [
    {
     "data": {
      "text/plain": [
       "[0, 1, 4, 5, 6, 7, 10, 11, 12, 15, 16, 19, 22]"
      ]
     },
     "execution_count": 28,
     "metadata": {},
     "output_type": "execute_result"
    }
   ],
   "source": [
    "ex"
   ]
  },
  {
   "cell_type": "code",
   "execution_count": 29,
   "metadata": {},
   "outputs": [
    {
     "data": {
      "text/plain": [
       "array([1, 3, 1, 1, 1, 3, 1, 1, 3, 1, 3, 3])"
      ]
     },
     "execution_count": 29,
     "metadata": {},
     "output_type": "execute_result"
    }
   ],
   "source": [
    "np.diff(ex)"
   ]
  },
  {
   "cell_type": "code",
   "execution_count": 43,
   "metadata": {},
   "outputs": [],
   "source": [
    "def conseq_1s(lst):\n",
    "    v = []\n",
    "    n = 0\n",
    "    for val in lst:\n",
    "        if val == 1:\n",
    "            n += 1\n",
    "        elif val == 3:\n",
    "            if n:\n",
    "                v.append(n)\n",
    "            n = 0\n",
    "        else:\n",
    "            raise ValueError(f'Value not 1 or 3: {val}')\n",
    "    return collections.Counter(v)"
   ]
  },
  {
   "cell_type": "code",
   "execution_count": 45,
   "metadata": {},
   "outputs": [
    {
     "data": {
      "text/plain": [
       "Counter({1: 2, 3: 1, 2: 1})"
      ]
     },
     "execution_count": 45,
     "metadata": {},
     "output_type": "execute_result"
    }
   ],
   "source": [
    "ex1s = conseq_1s(np.diff(ex))\n",
    "ex1s"
   ]
  },
  {
   "cell_type": "markdown",
   "metadata": {},
   "source": [
    "The values are always separated by either 1 or 3. If they're separated by 3, then both ends of that separation _have_ to be in the pattern. That makes it easy to break the problem into smaller problems. \n",
    "\n",
    "For the example problem, there's a single 1, followed by a series of three 1s, followed by two 1s, followed by a single 1. One can work out the combinations by hand. \n",
    "\n",
    "```\n",
    "A single 1 (0,1): 0 -> 1 (only one way to do this)\n",
    "\n",
    "A pair of 1s (0,1,2): 0 -> 1 -> 2 or 0 -> 2 (2 possibilities)\n",
    "\n",
    "A triple of 1s (0,1,2,3): (4 possibilities)\n",
    "  0 -> 1 -> 2 -> 3 \n",
    "  0 -> 1      -> 3\n",
    "  0      -> 2 -> 3\n",
    "  0           -> 3\n",
    "  \n",
    "A quartet of 1s (0,1,2,3,4): (7 possibilities)\n",
    "  0 -> 1 -> 2 -> 3 -> 4\n",
    "  0 -> 1 -> 2      -> 4\n",
    "  0 -> 1      -> 3 -> 4\n",
    "  0 -> 1           -> 4\n",
    "  0      -> 2 -> 3 -> 4\n",
    "  0      -> 2      -> 4\n",
    "  0           -> 3 -> 4\n",
    " ```\n",
    " \n",
    " One can go farther than this, but it turns out that a quartet is the most I need here"
   ]
  },
  {
   "cell_type": "code",
   "execution_count": 42,
   "metadata": {},
   "outputs": [],
   "source": [
    "poss = {1:1, 2:2, 3:4, 4:7}"
   ]
  },
  {
   "cell_type": "code",
   "execution_count": 60,
   "metadata": {},
   "outputs": [],
   "source": [
    "def paths(cnt):\n",
    "    prod = 1\n",
    "    for k in cnt:\n",
    "        prod *= poss[k]**cnt[k]\n",
    "    return prod"
   ]
  },
  {
   "cell_type": "code",
   "execution_count": 61,
   "metadata": {},
   "outputs": [
    {
     "data": {
      "text/plain": [
       "8"
      ]
     },
     "execution_count": 61,
     "metadata": {},
     "output_type": "execute_result"
    }
   ],
   "source": [
    "paths(ex1s)"
   ]
  },
  {
   "cell_type": "code",
   "execution_count": 62,
   "metadata": {},
   "outputs": [
    {
     "data": {
      "text/plain": [
       "Counter({4: 4, 3: 1, 2: 1, 1: 1})"
      ]
     },
     "execution_count": 62,
     "metadata": {},
     "output_type": "execute_result"
    }
   ],
   "source": [
    "ex2_1s = conseq_1s(np.diff(ex2))\n",
    "ex2_1s"
   ]
  },
  {
   "cell_type": "code",
   "execution_count": 64,
   "metadata": {},
   "outputs": [
    {
     "data": {
      "text/plain": [
       "19208"
      ]
     },
     "execution_count": 64,
     "metadata": {},
     "output_type": "execute_result"
    }
   ],
   "source": [
    "paths(ex2_1s)"
   ]
  },
  {
   "cell_type": "code",
   "execution_count": 65,
   "metadata": {},
   "outputs": [
    {
     "data": {
      "text/plain": [
       "Counter({4: 13, 2: 5, 1: 2, 3: 2})"
      ]
     },
     "execution_count": 65,
     "metadata": {},
     "output_type": "execute_result"
    }
   ],
   "source": [
    "data_1s = conseq_1s(np.diff(data))\n",
    "data_1s"
   ]
  },
  {
   "cell_type": "code",
   "execution_count": 66,
   "metadata": {},
   "outputs": [
    {
     "data": {
      "text/plain": [
       "49607173328384"
      ]
     },
     "execution_count": 66,
     "metadata": {},
     "output_type": "execute_result"
    }
   ],
   "source": [
    "paths(data_1s)"
   ]
  },
  {
   "cell_type": "code",
   "execution_count": null,
   "metadata": {},
   "outputs": [],
   "source": []
  }
 ],
 "metadata": {
  "kernelspec": {
   "display_name": "Python 3",
   "language": "python",
   "name": "python3"
  },
  "language_info": {
   "codemirror_mode": {
    "name": "ipython",
    "version": 3
   },
   "file_extension": ".py",
   "mimetype": "text/x-python",
   "name": "python",
   "nbconvert_exporter": "python",
   "pygments_lexer": "ipython3",
   "version": "3.9.0"
  }
 },
 "nbformat": 4,
 "nbformat_minor": 4
}
