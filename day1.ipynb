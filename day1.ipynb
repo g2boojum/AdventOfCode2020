{
 "cells": [
  {
   "cell_type": "markdown",
   "metadata": {},
   "source": [
    "## part 1 ##"
   ]
  },
  {
   "cell_type": "code",
   "execution_count": 3,
   "metadata": {},
   "outputs": [],
   "source": [
    "import itertools"
   ]
  },
  {
   "cell_type": "code",
   "execution_count": 2,
   "metadata": {},
   "outputs": [],
   "source": [
    "sample = [1721, 979, 366, 299, 675, 1456]"
   ]
  },
  {
   "cell_type": "code",
   "execution_count": 4,
   "metadata": {},
   "outputs": [
    {
     "name": "stdout",
     "output_type": "stream",
     "text": [
      "514579\n"
     ]
    }
   ],
   "source": [
    "for comb in itertools.combinations(sample, 2):\n",
    "    if sum(comb) == 2020:\n",
    "        print(comb[0]*comb[1])"
   ]
  },
  {
   "cell_type": "code",
   "execution_count": 6,
   "metadata": {},
   "outputs": [
    {
     "name": "stdout",
     "output_type": "stream",
     "text": [
      "[1735, 1700, 1358, 1908]\n"
     ]
    }
   ],
   "source": [
    "with open('inputs/day1.input') as fp:\n",
    "    data = [int(line.strip()) for line in fp.readlines()]\n",
    "print(data[:4])"
   ]
  },
  {
   "cell_type": "code",
   "execution_count": 7,
   "metadata": {},
   "outputs": [
    {
     "name": "stdout",
     "output_type": "stream",
     "text": [
      "878724\n"
     ]
    }
   ],
   "source": [
    "for comb in itertools.combinations(data, 2):\n",
    "    if sum(comb) == 2020:\n",
    "        print(comb[0]*comb[1])"
   ]
  },
  {
   "cell_type": "markdown",
   "metadata": {},
   "source": [
    "## part 2 ##"
   ]
  },
  {
   "cell_type": "code",
   "execution_count": 8,
   "metadata": {},
   "outputs": [
    {
     "name": "stdout",
     "output_type": "stream",
     "text": [
      "241861950\n"
     ]
    }
   ],
   "source": [
    "for comb in itertools.combinations(sample, 3):\n",
    "    if sum(comb) == 2020:\n",
    "        print(comb[0]*comb[1]*comb[2])"
   ]
  },
  {
   "cell_type": "code",
   "execution_count": 9,
   "metadata": {},
   "outputs": [
    {
     "name": "stdout",
     "output_type": "stream",
     "text": [
      "201251610\n"
     ]
    }
   ],
   "source": [
    "for comb in itertools.combinations(data, 3):\n",
    "    if sum(comb) == 2020:\n",
    "        print(comb[0]*comb[1]*comb[2])"
   ]
  },
  {
   "cell_type": "code",
   "execution_count": null,
   "metadata": {},
   "outputs": [],
   "source": []
  }
 ],
 "metadata": {
  "kernelspec": {
   "display_name": "Python 3",
   "language": "python",
   "name": "python3"
  },
  "language_info": {
   "codemirror_mode": {
    "name": "ipython",
    "version": 3
   },
   "file_extension": ".py",
   "mimetype": "text/x-python",
   "name": "python",
   "nbconvert_exporter": "python",
   "pygments_lexer": "ipython3",
   "version": "3.9.0"
  }
 },
 "nbformat": 4,
 "nbformat_minor": 4
}
