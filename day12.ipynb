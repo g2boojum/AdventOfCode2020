{
 "cells": [
  {
   "cell_type": "markdown",
   "metadata": {},
   "source": [
    "## part 1 ##"
   ]
  },
  {
   "cell_type": "code",
   "execution_count": 1,
   "metadata": {},
   "outputs": [
    {
     "data": {
      "text/plain": [
       "['F10', 'N3', 'F7', 'R90', 'F11']"
      ]
     },
     "execution_count": 1,
     "metadata": {},
     "output_type": "execute_result"
    }
   ],
   "source": [
    "ex = 'F10,N3,F7,R90,F11'.split(',')\n",
    "ex"
   ]
  },
  {
   "cell_type": "code",
   "execution_count": 31,
   "metadata": {},
   "outputs": [],
   "source": [
    "cd = {'N': (0,1), 'S': (0,-1), 'E': (1,0), 'W': (-1, 0)} # cardinal directions "
   ]
  },
  {
   "cell_type": "code",
   "execution_count": 6,
   "metadata": {},
   "outputs": [],
   "source": [
    "import collections\n",
    "import math"
   ]
  },
  {
   "cell_type": "code",
   "execution_count": 21,
   "metadata": {},
   "outputs": [],
   "source": [
    "def newheading(heading, deg):\n",
    "    rad = math.radians(deg)\n",
    "    x, y = heading\n",
    "    newx = round(x*math.cos(rad) - y*math.sin(rad), 3)\n",
    "    newy = round(x*math.sin(rad) + y*math.cos(rad), 3)\n",
    "    return (newx, newy)"
   ]
  },
  {
   "cell_type": "code",
   "execution_count": 22,
   "metadata": {},
   "outputs": [
    {
     "name": "stdout",
     "output_type": "stream",
     "text": [
      "(0.0, 1.0)\n",
      "(-1.0, 0.0)\n",
      "(-0.0, -1.0)\n",
      "(1.0, -0.0)\n",
      "(1.0, 0.0)\n",
      "(0.0, -1.0)\n",
      "(-1.0, -0.0)\n"
     ]
    }
   ],
   "source": [
    "for deg in [0, 90, 180, 270, -90, -180, -270]:\n",
    "    print(newheading((0,1), deg))"
   ]
  },
  {
   "cell_type": "code",
   "execution_count": 4,
   "metadata": {},
   "outputs": [],
   "source": [
    "Ship = collections.namedtuple('Ship', ['x', 'y', 'heading'])\n",
    "ship = Ship(0, 0, 180)"
   ]
  },
  {
   "cell_type": "code",
   "execution_count": 5,
   "metadata": {},
   "outputs": [
    {
     "data": {
      "text/plain": [
       "Ship(x=0, y=0, heading=180)"
      ]
     },
     "execution_count": 5,
     "metadata": {},
     "output_type": "execute_result"
    }
   ],
   "source": [
    "ship"
   ]
  },
  {
   "cell_type": "code",
   "execution_count": 23,
   "metadata": {},
   "outputs": [
    {
     "data": {
      "text/plain": [
       "Ship(x=1, y=-3, heading=(0.0, -1.0))"
      ]
     },
     "execution_count": 23,
     "metadata": {},
     "output_type": "execute_result"
    }
   ],
   "source": [
    "def turn(ship, deg):\n",
    "    return Ship(ship.x, ship.y, newheading(ship.heading, deg))\n",
    "turn(Ship(1, -3, (0,1)), -180)"
   ]
  },
  {
   "cell_type": "code",
   "execution_count": 26,
   "metadata": {},
   "outputs": [
    {
     "data": {
      "text/plain": [
       "Ship(x=1, y=2, heading=(0, 1))"
      ]
     },
     "execution_count": 26,
     "metadata": {},
     "output_type": "execute_result"
    }
   ],
   "source": [
    "def fwd(ship, amt):\n",
    "    newx = ship.x + ship.heading[0]*amt\n",
    "    newy = ship.y + ship.heading[1]*amt\n",
    "    return Ship(newx, newy, ship.heading)\n",
    "fwd(Ship(1, -3, (0,1)), 5)"
   ]
  },
  {
   "cell_type": "code",
   "execution_count": 28,
   "metadata": {},
   "outputs": [
    {
     "data": {
      "text/plain": [
       "Ship(x=5, y=-3, heading=(0, 1))"
      ]
     },
     "execution_count": 28,
     "metadata": {},
     "output_type": "execute_result"
    }
   ],
   "source": [
    "def displace(ship, direction, amt):\n",
    "    newx = ship.x + direction[0]*amt\n",
    "    newy = ship.y + direction[1]*amt\n",
    "    return Ship(newx, newy, ship.heading)\n",
    "displace(Ship(1, -3, (0, 1)), (1, 0), 4)"
   ]
  },
  {
   "cell_type": "code",
   "execution_count": 29,
   "metadata": {},
   "outputs": [],
   "source": [
    "def shipop(code, ship):\n",
    "    action, amt = code[0], int(code[1:])\n",
    "    if 'F' == action:\n",
    "        return fwd(ship, amt)\n",
    "    if 'L' == action:\n",
    "        return turn(ship, amt)\n",
    "    if 'R' == action:\n",
    "        return turn(ship, -amt)\n",
    "    if action in cd:\n",
    "        return displace(ship, cd[action], amt)\n",
    "    else:\n",
    "        raise ValueError(f'Not an allowed operation: {action}')"
   ]
  },
  {
   "cell_type": "code",
   "execution_count": 32,
   "metadata": {},
   "outputs": [
    {
     "data": {
      "text/plain": [
       "Ship(x=0, y=0, heading=(1, 0))"
      ]
     },
     "execution_count": 32,
     "metadata": {},
     "output_type": "execute_result"
    }
   ],
   "source": [
    "ship = Ship(0, 0, cd['E'])\n",
    "ship"
   ]
  },
  {
   "cell_type": "code",
   "execution_count": 34,
   "metadata": {},
   "outputs": [],
   "source": [
    "def process(codes):\n",
    "    ship = Ship(0,0, cd['E'])\n",
    "    for code in codes:\n",
    "        ship = shipop(code, ship)\n",
    "    return ship"
   ]
  },
  {
   "cell_type": "code",
   "execution_count": 35,
   "metadata": {},
   "outputs": [
    {
     "data": {
      "text/plain": [
       "Ship(x=17.0, y=-8.0, heading=(0.0, -1.0))"
      ]
     },
     "execution_count": 35,
     "metadata": {},
     "output_type": "execute_result"
    }
   ],
   "source": [
    "process(ex)"
   ]
  },
  {
   "cell_type": "code",
   "execution_count": 9,
   "metadata": {},
   "outputs": [
    {
     "data": {
      "text/plain": [
       "'F47'"
      ]
     },
     "execution_count": 9,
     "metadata": {},
     "output_type": "execute_result"
    }
   ],
   "source": [
    "with open('inputs/day12.input') as fp:\n",
    "    data = fp.read().strip().split()\n",
    "data[-1]"
   ]
  },
  {
   "cell_type": "code",
   "execution_count": 37,
   "metadata": {},
   "outputs": [
    {
     "name": "stdout",
     "output_type": "stream",
     "text": [
      "Ship(x=426.0, y=-478.0, heading=(-0.0, 1.0))\n",
      "904.0\n"
     ]
    }
   ],
   "source": [
    "dataship = process(data)\n",
    "print(dataship)\n",
    "print(abs(dataship.x) + abs(dataship.y))"
   ]
  },
  {
   "cell_type": "markdown",
   "metadata": {},
   "source": [
    "## part 2 ##"
   ]
  },
  {
   "cell_type": "code",
   "execution_count": 40,
   "metadata": {},
   "outputs": [
    {
     "data": {
      "text/plain": [
       "Waypt(x=10, y=1)"
      ]
     },
     "execution_count": 40,
     "metadata": {},
     "output_type": "execute_result"
    }
   ],
   "source": [
    "Waypt = collections.namedtuple('Waypt', ['x', 'y'])\n",
    "w = Waypt(10, 1)\n",
    "w"
   ]
  },
  {
   "cell_type": "code",
   "execution_count": 42,
   "metadata": {},
   "outputs": [
    {
     "data": {
      "text/plain": [
       "Waypt(x=10, y=6)"
      ]
     },
     "execution_count": 42,
     "metadata": {},
     "output_type": "execute_result"
    }
   ],
   "source": [
    "def move_waypt(direction, amt, waypt):\n",
    "    newx = waypt.x + direction[0]*amt\n",
    "    newy = waypt.y + direction[1]*amt\n",
    "    return Waypt(newx, newy)\n",
    "move_waypt(cd['N'], 5, w)"
   ]
  },
  {
   "cell_type": "code",
   "execution_count": 43,
   "metadata": {},
   "outputs": [
    {
     "data": {
      "text/plain": [
       "Waypt(x=-1.0, y=10.0)"
      ]
     },
     "execution_count": 43,
     "metadata": {},
     "output_type": "execute_result"
    }
   ],
   "source": [
    "def turn_waypt(deg, waypt):\n",
    "    rad = math.radians(deg)\n",
    "    x, y = waypt\n",
    "    newx = round(x*math.cos(rad) - y*math.sin(rad), 3)\n",
    "    newy = round(x*math.sin(rad) + y*math.cos(rad), 3)\n",
    "    return Waypt(newx, newy)\n",
    "turn_waypt(90, w)"
   ]
  },
  {
   "cell_type": "code",
   "execution_count": 44,
   "metadata": {},
   "outputs": [
    {
     "data": {
      "text/plain": [
       "Ship(x=100, y=20, heading=(1, 0))"
      ]
     },
     "execution_count": 44,
     "metadata": {},
     "output_type": "execute_result"
    }
   ],
   "source": [
    "def ship_fwd(amt, ship, waypt):\n",
    "    x = ship.x + amt*waypt.x\n",
    "    y = ship.y + amt*waypt.y\n",
    "    return Ship(x, y, ship.heading)\n",
    "ship_fwd(10, Ship(0, 0, (1, 0)), Waypt(10, 2))"
   ]
  },
  {
   "cell_type": "code",
   "execution_count": 51,
   "metadata": {},
   "outputs": [],
   "source": [
    "def process2(codes):\n",
    "    ship = Ship(0, 0, cd['E'])\n",
    "    waypt = Waypt(10, 1)\n",
    "    for code in codes:\n",
    "        action, amt = code[0], int(code[1:])\n",
    "        if 'F' == action:\n",
    "            ship = ship_fwd(amt, ship, waypt)\n",
    "        elif 'L' == action:\n",
    "            waypt = turn_waypt(amt, waypt)\n",
    "        elif 'R' == action:\n",
    "            waypt = turn_waypt(-amt, waypt)\n",
    "        elif action in cd:\n",
    "            waypt = move_waypt(cd[action], amt, waypt)\n",
    "        else:\n",
    "            raise ValueError(f'Not an allowed operation: {action}')   \n",
    "    return ship"
   ]
  },
  {
   "cell_type": "code",
   "execution_count": 53,
   "metadata": {},
   "outputs": [
    {
     "name": "stdout",
     "output_type": "stream",
     "text": [
      "Ship(x=214.0, y=-72.0, heading=(1, 0))\n",
      "286.0\n"
     ]
    }
   ],
   "source": [
    "exship = process2(ex)\n",
    "print(exship)\n",
    "print(abs(exship.x) + abs(exship.y))"
   ]
  },
  {
   "cell_type": "code",
   "execution_count": 54,
   "metadata": {},
   "outputs": [
    {
     "name": "stdout",
     "output_type": "stream",
     "text": [
      "Ship(x=-10766.0, y=-7981.0, heading=(1, 0))\n",
      "18747.0\n"
     ]
    }
   ],
   "source": [
    "dataship = process2(data)\n",
    "print(dataship)\n",
    "print(abs(dataship.x) + abs(dataship.y))"
   ]
  },
  {
   "cell_type": "code",
   "execution_count": null,
   "metadata": {},
   "outputs": [],
   "source": []
  }
 ],
 "metadata": {
  "kernelspec": {
   "display_name": "Python 3",
   "language": "python",
   "name": "python3"
  },
  "language_info": {
   "codemirror_mode": {
    "name": "ipython",
    "version": 3
   },
   "file_extension": ".py",
   "mimetype": "text/x-python",
   "name": "python",
   "nbconvert_exporter": "python",
   "pygments_lexer": "ipython3",
   "version": "3.9.0"
  }
 },
 "nbformat": 4,
 "nbformat_minor": 4
}
