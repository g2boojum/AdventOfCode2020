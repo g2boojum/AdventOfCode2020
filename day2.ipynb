{
 "cells": [
  {
   "cell_type": "markdown",
   "metadata": {},
   "source": [
    "## part 1 ##"
   ]
  },
  {
   "cell_type": "code",
   "execution_count": 1,
   "metadata": {},
   "outputs": [],
   "source": [
    "import collections"
   ]
  },
  {
   "cell_type": "code",
   "execution_count": 2,
   "metadata": {},
   "outputs": [],
   "source": [
    "examples = '''1-3 a: abcde\n",
    "1-3 b: cdefg\n",
    "2-9 c: ccccccccc'''"
   ]
  },
  {
   "cell_type": "code",
   "execution_count": 20,
   "metadata": {},
   "outputs": [],
   "source": [
    "def parse_line(line):\n",
    "    rangetok, keytok, pw = line.split()\n",
    "    key = keytok.strip()[0]\n",
    "    rangetoks = rangetok.strip().split('-')\n",
    "    minocc, maxocc = int(rangetoks[0]), int(rangetoks[1])\n",
    "    pw = pw.strip()\n",
    "    return minocc, maxocc, key, pw"
   ]
  },
  {
   "cell_type": "code",
   "execution_count": 21,
   "metadata": {},
   "outputs": [
    {
     "name": "stdout",
     "output_type": "stream",
     "text": [
      "(1, 3, 'a', 'abcde')\n",
      "(1, 3, 'b', 'cdefg')\n",
      "(2, 9, 'c', 'ccccccccc')\n"
     ]
    }
   ],
   "source": [
    "for line in examples.split('\\n'):\n",
    "    print(parse_line(line))"
   ]
  },
  {
   "cell_type": "code",
   "execution_count": 22,
   "metadata": {},
   "outputs": [],
   "source": [
    "def is_valid(minocc, maxocc, key, pw):\n",
    "    cnt = collections.Counter(pw)\n",
    "    return minocc <= cnt[key] <= maxocc"
   ]
  },
  {
   "cell_type": "code",
   "execution_count": 23,
   "metadata": {},
   "outputs": [
    {
     "data": {
      "text/plain": [
       "False"
      ]
     },
     "execution_count": 23,
     "metadata": {},
     "output_type": "execute_result"
    }
   ],
   "source": [
    "is_valid(1, 3, 'a', 'aaaabcde')"
   ]
  },
  {
   "cell_type": "code",
   "execution_count": 24,
   "metadata": {},
   "outputs": [
    {
     "name": "stdout",
     "output_type": "stream",
     "text": [
      "1-3 a: abcde --> True\n",
      "1-3 b: cdefg --> False\n",
      "2-9 c: ccccccccc --> True\n"
     ]
    }
   ],
   "source": [
    "for line in examples.split('\\n'):\n",
    "    print(line, '-->', is_valid(*parse_line(line)))"
   ]
  },
  {
   "cell_type": "code",
   "execution_count": 25,
   "metadata": {},
   "outputs": [
    {
     "data": {
      "text/plain": [
       "['16-18 h: hhhhhhhhhhhhhhhhhh\\n',\n",
       " '17-18 d: ddddddddddddddddzn\\n',\n",
       " '15-18 c: cccccccccccccczcczc\\n']"
      ]
     },
     "execution_count": 25,
     "metadata": {},
     "output_type": "execute_result"
    }
   ],
   "source": [
    "with open('inputs/day2.input') as fp:\n",
    "    data = fp.readlines()\n",
    "data[:3]"
   ]
  },
  {
   "cell_type": "code",
   "execution_count": 26,
   "metadata": {},
   "outputs": [
    {
     "data": {
      "text/plain": [
       "(16, 18, 'h', 'hhhhhhhhhhhhhhhhhh')"
      ]
     },
     "execution_count": 26,
     "metadata": {},
     "output_type": "execute_result"
    }
   ],
   "source": [
    "parse_line(data[0])"
   ]
  },
  {
   "cell_type": "code",
   "execution_count": 28,
   "metadata": {},
   "outputs": [
    {
     "data": {
      "text/plain": [
       "465"
      ]
     },
     "execution_count": 28,
     "metadata": {},
     "output_type": "execute_result"
    }
   ],
   "source": [
    "sum(is_valid(*parse_line(line)) for line in data)"
   ]
  },
  {
   "cell_type": "markdown",
   "metadata": {},
   "source": [
    "## part 2 ##"
   ]
  },
  {
   "cell_type": "code",
   "execution_count": 29,
   "metadata": {},
   "outputs": [],
   "source": [
    "def is_valid2(pos1, pos2, key, pw):\n",
    "    is_key_1 = (key == pw[pos1-1])\n",
    "    is_key_2 = (key == pw[pos2-1])\n",
    "    return is_key_1 ^ is_key_2"
   ]
  },
  {
   "cell_type": "code",
   "execution_count": 30,
   "metadata": {},
   "outputs": [
    {
     "name": "stdout",
     "output_type": "stream",
     "text": [
      "1-3 a: abcde --> True\n",
      "1-3 b: cdefg --> False\n",
      "2-9 c: ccccccccc --> False\n"
     ]
    }
   ],
   "source": [
    "for line in examples.split('\\n'):\n",
    "    print(line, '-->', is_valid2(*parse_line(line)))"
   ]
  },
  {
   "cell_type": "code",
   "execution_count": 31,
   "metadata": {},
   "outputs": [
    {
     "data": {
      "text/plain": [
       "294"
      ]
     },
     "execution_count": 31,
     "metadata": {},
     "output_type": "execute_result"
    }
   ],
   "source": [
    "sum(is_valid2(*parse_line(line)) for line in data)"
   ]
  },
  {
   "cell_type": "code",
   "execution_count": null,
   "metadata": {},
   "outputs": [],
   "source": []
  }
 ],
 "metadata": {
  "kernelspec": {
   "display_name": "Python 3",
   "language": "python",
   "name": "python3"
  },
  "language_info": {
   "codemirror_mode": {
    "name": "ipython",
    "version": 3
   },
   "file_extension": ".py",
   "mimetype": "text/x-python",
   "name": "python",
   "nbconvert_exporter": "python",
   "pygments_lexer": "ipython3",
   "version": "3.9.0"
  }
 },
 "nbformat": 4,
 "nbformat_minor": 4
}
