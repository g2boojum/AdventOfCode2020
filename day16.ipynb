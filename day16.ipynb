{
 "cells": [
  {
   "cell_type": "markdown",
   "metadata": {},
   "source": [
    "## part 1 ##"
   ]
  },
  {
   "cell_type": "code",
   "execution_count": 1,
   "metadata": {},
   "outputs": [],
   "source": [
    "ex = '''class: 1-3 or 5-7\n",
    "row: 6-11 or 33-44\n",
    "seat: 13-40 or 45-50\n",
    "\n",
    "your ticket:\n",
    "7,1,14\n",
    "\n",
    "nearby tickets:\n",
    "7,3,47\n",
    "40,4,50\n",
    "55,2,20\n",
    "38,6,12'''.strip().split('\\n')"
   ]
  },
  {
   "cell_type": "code",
   "execution_count": 2,
   "metadata": {},
   "outputs": [],
   "source": [
    "def parse(lines):\n",
    "    rangelines = lines[0:lines.index('')]\n",
    "    ticket = lines[lines.index('your ticket:')+1]\n",
    "    nearbytix = lines[lines.index('nearby tickets:')+1:]\n",
    "    return rangelines, ticket, nearbytix"
   ]
  },
  {
   "cell_type": "code",
   "execution_count": 3,
   "metadata": {},
   "outputs": [
    {
     "data": {
      "text/plain": [
       "(['class: 1-3 or 5-7', 'row: 6-11 or 33-44', 'seat: 13-40 or 45-50'],\n",
       " '7,1,14',\n",
       " ['7,3,47', '40,4,50', '55,2,20', '38,6,12'])"
      ]
     },
     "execution_count": 3,
     "metadata": {},
     "output_type": "execute_result"
    }
   ],
   "source": [
    "exrangelines, exticket, exnearbytix = parse(ex)\n",
    "exrangelines, exticket, exnearbytix"
   ]
  },
  {
   "cell_type": "code",
   "execution_count": 4,
   "metadata": {},
   "outputs": [],
   "source": [
    "def get_limits(lines):\n",
    "    limits = {}\n",
    "    for line in lines:\n",
    "        lhs, rhs = line.split(':')\n",
    "        key = lhs.strip()\n",
    "        lims = []\n",
    "        for s in rhs.strip().split('or'):\n",
    "            lo, hi = s.strip().split('-')\n",
    "            lims.append((int(lo), int(hi)))\n",
    "        limits[key] = lims\n",
    "    return limits"
   ]
  },
  {
   "cell_type": "code",
   "execution_count": 5,
   "metadata": {},
   "outputs": [
    {
     "data": {
      "text/plain": [
       "{'class': [(1, 3), (5, 7)],\n",
       " 'row': [(6, 11), (33, 44)],\n",
       " 'seat': [(13, 40), (45, 50)]}"
      ]
     },
     "execution_count": 5,
     "metadata": {},
     "output_type": "execute_result"
    }
   ],
   "source": [
    "exlims = get_limits(exrangelines)\n",
    "exlims"
   ]
  },
  {
   "cell_type": "code",
   "execution_count": 6,
   "metadata": {},
   "outputs": [],
   "source": [
    "def invalidnums(ticket, limits):\n",
    "    invalid = []\n",
    "    for num in ticket:\n",
    "        checks = []\n",
    "        for key in limits:\n",
    "            for r in limits[key]:\n",
    "                checks.append(r[0] <= num <= r[1])\n",
    "        if not any(checks):\n",
    "            invalid.append(num)\n",
    "    return invalid"
   ]
  },
  {
   "cell_type": "code",
   "execution_count": 7,
   "metadata": {},
   "outputs": [
    {
     "data": {
      "text/plain": [
       "[]"
      ]
     },
     "execution_count": 7,
     "metadata": {},
     "output_type": "execute_result"
    }
   ],
   "source": [
    "invalidnums([7,3,47], exlims)"
   ]
  },
  {
   "cell_type": "code",
   "execution_count": 8,
   "metadata": {},
   "outputs": [
    {
     "data": {
      "text/plain": [
       "[4]"
      ]
     },
     "execution_count": 8,
     "metadata": {},
     "output_type": "execute_result"
    }
   ],
   "source": [
    "invalidnums([40, 4, 50], exlims)"
   ]
  },
  {
   "cell_type": "code",
   "execution_count": 9,
   "metadata": {},
   "outputs": [
    {
     "data": {
      "text/plain": [
       "['7,3,47', '40,4,50', '55,2,20', '38,6,12']"
      ]
     },
     "execution_count": 9,
     "metadata": {},
     "output_type": "execute_result"
    }
   ],
   "source": [
    "exnearbytix"
   ]
  },
  {
   "cell_type": "code",
   "execution_count": 10,
   "metadata": {},
   "outputs": [],
   "source": [
    "def process_nearbytix(nearbytix, limits):\n",
    "    badnums = []\n",
    "    for ticket in nearbytix:\n",
    "        vals = [int(num) for num in ticket.split(',')]\n",
    "        invalid = invalidnums(vals, limits)\n",
    "        if invalid:\n",
    "            badnums.extend(invalid)\n",
    "    return sum(badnums)"
   ]
  },
  {
   "cell_type": "code",
   "execution_count": 11,
   "metadata": {},
   "outputs": [
    {
     "data": {
      "text/plain": [
       "71"
      ]
     },
     "execution_count": 11,
     "metadata": {},
     "output_type": "execute_result"
    }
   ],
   "source": [
    "process_nearbytix(exnearbytix, exlims)"
   ]
  },
  {
   "cell_type": "code",
   "execution_count": 12,
   "metadata": {},
   "outputs": [],
   "source": [
    "with open('inputs/day16.input') as fp:\n",
    "    data  = fp.read().split('\\n')\n",
    "dataranges, dataticket, datanearbytix = parse(data)\n",
    "dataticket = [int(x) for x in ]"
   ]
  },
  {
   "cell_type": "code",
   "execution_count": 13,
   "metadata": {},
   "outputs": [],
   "source": [
    "datalims = get_limits(dataranges)"
   ]
  },
  {
   "cell_type": "code",
   "execution_count": 14,
   "metadata": {},
   "outputs": [
    {
     "data": {
      "text/plain": [
       "32842"
      ]
     },
     "execution_count": 14,
     "metadata": {},
     "output_type": "execute_result"
    }
   ],
   "source": [
    "process_nearbytix(datanearbytix[:-1], datalims)"
   ]
  },
  {
   "cell_type": "markdown",
   "metadata": {},
   "source": [
    "## part 2 ##"
   ]
  },
  {
   "cell_type": "code",
   "execution_count": 15,
   "metadata": {},
   "outputs": [],
   "source": [
    "def good_nearbytix(nearbytix, limits):\n",
    "    good = []\n",
    "    for ticket in nearbytix:\n",
    "        vals = [int(num) for num in ticket.split(',')]\n",
    "        invalid = invalidnums(vals, limits)\n",
    "        if not invalid:\n",
    "            good.append([int(t) for t in ticket.split(',')])\n",
    "    return good"
   ]
  },
  {
   "cell_type": "code",
   "execution_count": 16,
   "metadata": {},
   "outputs": [],
   "source": [
    "ex2 = '''class: 0-1 or 4-19\n",
    "row: 0-5 or 8-19\n",
    "seat: 0-13 or 16-19\n",
    "\n",
    "your ticket:\n",
    "11,12,13\n",
    "\n",
    "nearby tickets:\n",
    "3,9,18\n",
    "15,1,5\n",
    "5,14,9'''.strip().split('\\n')"
   ]
  },
  {
   "cell_type": "code",
   "execution_count": 17,
   "metadata": {},
   "outputs": [
    {
     "data": {
      "text/plain": [
       "(['class: 0-1 or 4-19', 'row: 0-5 or 8-19', 'seat: 0-13 or 16-19'],\n",
       " '11,12,13',\n",
       " ['3,9,18', '15,1,5', '5,14,9'])"
      ]
     },
     "execution_count": 17,
     "metadata": {},
     "output_type": "execute_result"
    }
   ],
   "source": [
    "ex2rangelines, ex2ticket, ex2nearbytix = parse(ex2)\n",
    "ex2rangelines, ex2ticket, ex2nearbytix"
   ]
  },
  {
   "cell_type": "code",
   "execution_count": 18,
   "metadata": {},
   "outputs": [
    {
     "data": {
      "text/plain": [
       "{'class': [(0, 1), (4, 19)],\n",
       " 'row': [(0, 5), (8, 19)],\n",
       " 'seat': [(0, 13), (16, 19)]}"
      ]
     },
     "execution_count": 18,
     "metadata": {},
     "output_type": "execute_result"
    }
   ],
   "source": [
    "ex2lims = get_limits(ex2rangelines)\n",
    "ex2lims"
   ]
  },
  {
   "cell_type": "code",
   "execution_count": 19,
   "metadata": {},
   "outputs": [
    {
     "data": {
      "text/plain": [
       "[[3, 9, 18], [15, 1, 5], [5, 14, 9]]"
      ]
     },
     "execution_count": 19,
     "metadata": {},
     "output_type": "execute_result"
    }
   ],
   "source": [
    "ex2good = good_nearbytix(ex2nearbytix, ex2lims)\n",
    "ex2good"
   ]
  },
  {
   "cell_type": "code",
   "execution_count": 20,
   "metadata": {},
   "outputs": [],
   "source": [
    "import collections"
   ]
  },
  {
   "cell_type": "code",
   "execution_count": 21,
   "metadata": {},
   "outputs": [],
   "source": [
    "def is_num_valid_in_field(num, field_ranges):\n",
    "    return any((r[0] <= num <= r[1]) for r in field_ranges)"
   ]
  },
  {
   "cell_type": "code",
   "execution_count": 22,
   "metadata": {},
   "outputs": [
    {
     "data": {
      "text/plain": [
       "True"
      ]
     },
     "execution_count": 22,
     "metadata": {},
     "output_type": "execute_result"
    }
   ],
   "source": [
    "is_num_valid_in_field(3, ex2lims['seat'])"
   ]
  },
  {
   "cell_type": "code",
   "execution_count": 23,
   "metadata": {},
   "outputs": [],
   "source": [
    "def find_possible(goodtix, lims):\n",
    "    num_fields = len(goodtix[0])\n",
    "    valid = collections.defaultdict(list)\n",
    "    for i in range(num_fields):\n",
    "        nums = [int(ticket[i]) for ticket in goodtix]\n",
    "        for key in lims:\n",
    "            if all(is_num_valid_in_field(num, lims[key]) for num in nums):\n",
    "                valid[i].append(key)\n",
    "    return valid\n",
    "        "
   ]
  },
  {
   "cell_type": "code",
   "execution_count": 24,
   "metadata": {},
   "outputs": [
    {
     "data": {
      "text/plain": [
       "defaultdict(list,\n",
       "            {0: ['row'], 1: ['class', 'row'], 2: ['class', 'row', 'seat']})"
      ]
     },
     "execution_count": 24,
     "metadata": {},
     "output_type": "execute_result"
    }
   ],
   "source": [
    "ex2possible = find_possible(ex2good, ex2lims)\n",
    "ex2possible"
   ]
  },
  {
   "cell_type": "code",
   "execution_count": 25,
   "metadata": {},
   "outputs": [],
   "source": [
    "def resolve_fields(possible, assigned={}):\n",
    "    if possible == {}:\n",
    "        return assigned\n",
    "    found = {}\n",
    "    for key in possible:\n",
    "        if len(possible[key]) == 1:\n",
    "            found[key] = possible[key][0]\n",
    "    for key in found:\n",
    "        del possible[key]\n",
    "    for key in possible:\n",
    "        possible[key] = [v for v in possible[key] if v not in found.values()]\n",
    "    assigned.update(found)\n",
    "    return resolve_fields(possible, assigned)\n"
   ]
  },
  {
   "cell_type": "code",
   "execution_count": 26,
   "metadata": {},
   "outputs": [
    {
     "data": {
      "text/plain": [
       "{0: 'row', 1: 'class', 2: 'seat'}"
      ]
     },
     "execution_count": 26,
     "metadata": {},
     "output_type": "execute_result"
    }
   ],
   "source": [
    "ex2resolved = resolve_fields(ex2possible.copy())\n",
    "ex2resolved"
   ]
  },
  {
   "cell_type": "code",
   "execution_count": 27,
   "metadata": {},
   "outputs": [],
   "source": [
    "datagood = good_nearbytix(datanearbytix[:-1], datalims)"
   ]
  },
  {
   "cell_type": "code",
   "execution_count": 28,
   "metadata": {},
   "outputs": [],
   "source": [
    "datapossible = find_possible(datagood, datalims)"
   ]
  },
  {
   "cell_type": "code",
   "execution_count": 29,
   "metadata": {},
   "outputs": [
    {
     "data": {
      "text/plain": [
       "{0: 'arrival platform',\n",
       " 1: 'class',\n",
       " 2: 'arrival location',\n",
       " 11: 'type',\n",
       " 5: 'price',\n",
       " 8: 'departure location',\n",
       " 18: 'departure platform',\n",
       " 17: 'departure date',\n",
       " 9: 'departure track',\n",
       " 4: 'departure station',\n",
       " 7: 'departure time',\n",
       " 16: 'duration',\n",
       " 19: 'wagon',\n",
       " 12: 'route',\n",
       " 13: 'arrival track',\n",
       " 3: 'seat',\n",
       " 15: 'train',\n",
       " 6: 'row',\n",
       " 10: 'zone',\n",
       " 14: 'arrival station'}"
      ]
     },
     "execution_count": 29,
     "metadata": {},
     "output_type": "execute_result"
    }
   ],
   "source": [
    "dataresolved = resolve_fields(datapossible.copy())\n",
    "dataresolved"
   ]
  },
  {
   "cell_type": "code",
   "execution_count": 30,
   "metadata": {},
   "outputs": [
    {
     "name": "stdout",
     "output_type": "stream",
     "text": [
      "2628667251989\n"
     ]
    }
   ],
   "source": [
    "prod = 1\n",
    "for key in dataresolved:\n",
    "    if 'departure' in dataresolved[key]:\n",
    "        prod *= int(dataticket.split(',')[key])\n",
    "print(prod)"
   ]
  },
  {
   "cell_type": "code",
   "execution_count": null,
   "metadata": {},
   "outputs": [],
   "source": []
  }
 ],
 "metadata": {
  "kernelspec": {
   "display_name": "Python 3",
   "language": "python",
   "name": "python3"
  },
  "language_info": {
   "codemirror_mode": {
    "name": "ipython",
    "version": 3
   },
   "file_extension": ".py",
   "mimetype": "text/x-python",
   "name": "python",
   "nbconvert_exporter": "python",
   "pygments_lexer": "ipython3",
   "version": "3.9.0"
  }
 },
 "nbformat": 4,
 "nbformat_minor": 4
}
