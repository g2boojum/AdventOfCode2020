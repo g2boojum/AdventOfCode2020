{
 "cells": [
  {
   "cell_type": "markdown",
   "metadata": {},
   "source": [
    "## part 1 ##"
   ]
  },
  {
   "cell_type": "code",
   "execution_count": 1,
   "metadata": {},
   "outputs": [],
   "source": [
    "ex = '''.#.\n",
    "..#\n",
    "###'''.strip().split('\\n')"
   ]
  },
  {
   "cell_type": "code",
   "execution_count": 2,
   "metadata": {},
   "outputs": [],
   "source": [
    "def process_input(lines):\n",
    "    z = 0\n",
    "    active = set()\n",
    "    for y, line in enumerate(lines):\n",
    "        for x, c in enumerate(line):\n",
    "            if c == '#':\n",
    "                active.add((x, y, z))\n",
    "    return active"
   ]
  },
  {
   "cell_type": "code",
   "execution_count": 3,
   "metadata": {},
   "outputs": [
    {
     "data": {
      "text/plain": [
       "{(0, 2, 0), (1, 0, 0), (1, 2, 0), (2, 1, 0), (2, 2, 0)}"
      ]
     },
     "execution_count": 3,
     "metadata": {},
     "output_type": "execute_result"
    }
   ],
   "source": [
    "exactive = process_input(ex)\n",
    "exactive"
   ]
  },
  {
   "cell_type": "code",
   "execution_count": 4,
   "metadata": {},
   "outputs": [],
   "source": [
    "def count_active_neighbors(pos, active):\n",
    "    x, y, z = pos\n",
    "    count = 0\n",
    "    for i in (x-1, x, x+1):\n",
    "        for j in (y-1, y, y+1):\n",
    "            for k in (z-1, z, z+1):\n",
    "                if (i,j,k) != (x,y,z):\n",
    "                    if (i,j,k) in active:\n",
    "                        count += 1\n",
    "    return count"
   ]
  },
  {
   "cell_type": "code",
   "execution_count": 5,
   "metadata": {},
   "outputs": [
    {
     "data": {
      "text/plain": [
       "3"
      ]
     },
     "execution_count": 5,
     "metadata": {},
     "output_type": "execute_result"
    }
   ],
   "source": [
    "count_active_neighbors((1,2,0), exactive)"
   ]
  },
  {
   "cell_type": "code",
   "execution_count": 6,
   "metadata": {},
   "outputs": [],
   "source": [
    "def cycle(active):\n",
    "    minx = min(r[0] for r in active)\n",
    "    maxx = max(r[0] for r in active)\n",
    "    miny = min(r[1] for r in active)\n",
    "    maxy = max(r[1] for r in active)\n",
    "    minz = min(r[2] for r in active)\n",
    "    maxz = max(r[2] for r in active)\n",
    "    newactive = set()\n",
    "    for x in range(minx - 1, maxx + 2):\n",
    "        for y in range(miny - 1, maxy + 2):\n",
    "            for z in range(minz - 1, maxz + 2):\n",
    "                c = count_active_neighbors((x, y, z), active)\n",
    "                if (x, y, z) in active:\n",
    "                    if (c == 2) or (c == 3):\n",
    "                        newactive.add((x, y, z))\n",
    "                else:\n",
    "                    if c == 3:\n",
    "                        newactive.add((x, y, z))\n",
    "    return newactive"
   ]
  },
  {
   "cell_type": "code",
   "execution_count": 7,
   "metadata": {},
   "outputs": [
    {
     "data": {
      "text/plain": [
       "{(0, 1, -1),\n",
       " (0, 1, 0),\n",
       " (0, 1, 1),\n",
       " (1, 2, 0),\n",
       " (1, 3, -1),\n",
       " (1, 3, 0),\n",
       " (1, 3, 1),\n",
       " (2, 1, 0),\n",
       " (2, 2, -1),\n",
       " (2, 2, 0),\n",
       " (2, 2, 1)}"
      ]
     },
     "execution_count": 7,
     "metadata": {},
     "output_type": "execute_result"
    }
   ],
   "source": [
    "cycle(exactive)"
   ]
  },
  {
   "cell_type": "code",
   "execution_count": 8,
   "metadata": {},
   "outputs": [
    {
     "data": {
      "text/plain": [
       "112"
      ]
     },
     "execution_count": 8,
     "metadata": {},
     "output_type": "execute_result"
    }
   ],
   "source": [
    "excyc = exactive.copy()\n",
    "for i in range(6):\n",
    "    excyc = cycle(excyc)\n",
    "len(excyc)"
   ]
  },
  {
   "cell_type": "code",
   "execution_count": 9,
   "metadata": {},
   "outputs": [],
   "source": [
    "data = '''....#...\n",
    ".#..###.\n",
    ".#.#.###\n",
    ".#....#.\n",
    "...#.#.#\n",
    "#.......\n",
    "##....#.\n",
    ".##..#.#'''.strip().split('\\n')"
   ]
  },
  {
   "cell_type": "code",
   "execution_count": 10,
   "metadata": {},
   "outputs": [
    {
     "data": {
      "text/plain": [
       "23"
      ]
     },
     "execution_count": 10,
     "metadata": {},
     "output_type": "execute_result"
    }
   ],
   "source": [
    "data_active = process_input(data)\n",
    "len(data_active)"
   ]
  },
  {
   "cell_type": "code",
   "execution_count": 11,
   "metadata": {},
   "outputs": [
    {
     "data": {
      "text/plain": [
       "301"
      ]
     },
     "execution_count": 11,
     "metadata": {},
     "output_type": "execute_result"
    }
   ],
   "source": [
    "datacyc = data_active.copy()\n",
    "for i in range(6):\n",
    "    datacyc = cycle(datacyc)\n",
    "len(datacyc)"
   ]
  },
  {
   "cell_type": "markdown",
   "metadata": {},
   "source": [
    "## part 2 ##"
   ]
  },
  {
   "cell_type": "code",
   "execution_count": 12,
   "metadata": {},
   "outputs": [],
   "source": [
    "def process_input2(lines):\n",
    "    z = 0\n",
    "    w = 0\n",
    "    active = set()\n",
    "    for y, line in enumerate(lines):\n",
    "        for x, c in enumerate(line):\n",
    "            if c == '#':\n",
    "                active.add((x, y, z, w))\n",
    "    return active"
   ]
  },
  {
   "cell_type": "code",
   "execution_count": 13,
   "metadata": {},
   "outputs": [],
   "source": [
    "def count_active_neighbors2(pos, active):\n",
    "    x, y, z, w = pos\n",
    "    count = 0\n",
    "    for i in (x-1, x, x+1):\n",
    "        for j in (y-1, y, y+1):\n",
    "            for k in (z-1, z, z+1):\n",
    "                for l in (w-1, w, w+1):\n",
    "                    if (i,j,k,l) != (x,y,z,w):\n",
    "                        if (i,j,k,l) in active:\n",
    "                            count += 1\n",
    "    return count"
   ]
  },
  {
   "cell_type": "code",
   "execution_count": 14,
   "metadata": {},
   "outputs": [],
   "source": [
    "def cycle2(active):\n",
    "    minx = min(r[0] for r in active)\n",
    "    maxx = max(r[0] for r in active)\n",
    "    miny = min(r[1] for r in active)\n",
    "    maxy = max(r[1] for r in active)\n",
    "    minz = min(r[2] for r in active)\n",
    "    maxz = max(r[2] for r in active)\n",
    "    minw = min(r[3] for r in active)\n",
    "    maxw = max(r[3] for r in active)\n",
    "    newactive = set()\n",
    "    for x in range(minx - 1, maxx + 2):\n",
    "        for y in range(miny - 1, maxy + 2):\n",
    "            for z in range(minz - 1, maxz + 2):\n",
    "                for w in range(minw - 1, maxw + 2):\n",
    "                    c = count_active_neighbors2((x, y, z, w), active)\n",
    "                    if (x, y, z, w) in active:\n",
    "                        if (c == 2) or (c == 3):\n",
    "                            newactive.add((x, y, z, w))\n",
    "                    else:\n",
    "                        if c == 3:\n",
    "                            newactive.add((x, y, z, w))\n",
    "    return newactive"
   ]
  },
  {
   "cell_type": "code",
   "execution_count": 15,
   "metadata": {},
   "outputs": [],
   "source": [
    "def process(lines):\n",
    "    active = process_input2(lines)\n",
    "    for i in range(6):\n",
    "        active = cycle2(active)\n",
    "    return len(active)"
   ]
  },
  {
   "cell_type": "code",
   "execution_count": 16,
   "metadata": {},
   "outputs": [
    {
     "data": {
      "text/plain": [
       "848"
      ]
     },
     "execution_count": 16,
     "metadata": {},
     "output_type": "execute_result"
    }
   ],
   "source": [
    "process(ex)"
   ]
  },
  {
   "cell_type": "code",
   "execution_count": 17,
   "metadata": {},
   "outputs": [
    {
     "data": {
      "text/plain": [
       "2424"
      ]
     },
     "execution_count": 17,
     "metadata": {},
     "output_type": "execute_result"
    }
   ],
   "source": [
    "process(data)"
   ]
  },
  {
   "cell_type": "code",
   "execution_count": null,
   "metadata": {},
   "outputs": [],
   "source": []
  }
 ],
 "metadata": {
  "kernelspec": {
   "display_name": "Python 3",
   "language": "python",
   "name": "python3"
  },
  "language_info": {
   "codemirror_mode": {
    "name": "ipython",
    "version": 3
   },
   "file_extension": ".py",
   "mimetype": "text/x-python",
   "name": "python",
   "nbconvert_exporter": "python",
   "pygments_lexer": "ipython3",
   "version": "3.9.0"
  }
 },
 "nbformat": 4,
 "nbformat_minor": 4
}
