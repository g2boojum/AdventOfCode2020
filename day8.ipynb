{
 "cells": [
  {
   "cell_type": "markdown",
   "metadata": {},
   "source": [
    "## part 1 ##"
   ]
  },
  {
   "cell_type": "code",
   "execution_count": 1,
   "metadata": {},
   "outputs": [],
   "source": [
    "exprog = '''nop +0\n",
    "acc +1\n",
    "jmp +4\n",
    "acc +3\n",
    "jmp -3\n",
    "acc -99\n",
    "acc +1\n",
    "jmp -4\n",
    "acc +6'''.split('\\n')"
   ]
  },
  {
   "cell_type": "code",
   "execution_count": 2,
   "metadata": {},
   "outputs": [],
   "source": [
    "def step(ic, acc, seen, prog):\n",
    "    tokens = prog[ic].strip().split()\n",
    "    op = tokens[0]\n",
    "    val = int(tokens[1])\n",
    "    seen.add(ic)\n",
    "    if 'nop' == op:\n",
    "        return ic+1, acc, seen, prog\n",
    "    elif 'acc' == op:\n",
    "        return ic+1, acc+val, seen, prog\n",
    "    elif 'jmp' == op:\n",
    "        return ic+val, acc, seen, prog"
   ]
  },
  {
   "cell_type": "code",
   "execution_count": 3,
   "metadata": {},
   "outputs": [],
   "source": [
    "def run(prog):\n",
    "    ic = 0\n",
    "    acc = 0\n",
    "    seen = set()\n",
    "    while True:\n",
    "        if ic in seen:\n",
    "            break\n",
    "        ic, acc, seen, prog = step(ic, acc, seen, prog)\n",
    "    return acc"
   ]
  },
  {
   "cell_type": "code",
   "execution_count": 4,
   "metadata": {},
   "outputs": [
    {
     "data": {
      "text/plain": [
       "5"
      ]
     },
     "execution_count": 4,
     "metadata": {},
     "output_type": "execute_result"
    }
   ],
   "source": [
    "run(exprog)"
   ]
  },
  {
   "cell_type": "code",
   "execution_count": 5,
   "metadata": {},
   "outputs": [
    {
     "data": {
      "text/plain": [
       "'jmp +1\\n'"
      ]
     },
     "execution_count": 5,
     "metadata": {},
     "output_type": "execute_result"
    }
   ],
   "source": [
    "with open('inputs/day8.input') as fp:\n",
    "    dataprog = fp.readlines()\n",
    "dataprog[-1]"
   ]
  },
  {
   "cell_type": "code",
   "execution_count": 6,
   "metadata": {},
   "outputs": [
    {
     "data": {
      "text/plain": [
       "1867"
      ]
     },
     "execution_count": 6,
     "metadata": {},
     "output_type": "execute_result"
    }
   ],
   "source": [
    "run(dataprog)"
   ]
  },
  {
   "cell_type": "markdown",
   "metadata": {},
   "source": [
    "## part 2 ##"
   ]
  },
  {
   "cell_type": "code",
   "execution_count": 7,
   "metadata": {},
   "outputs": [],
   "source": [
    "def run2(prog):\n",
    "    ic = 0\n",
    "    acc = 0\n",
    "    seen = set()\n",
    "    while True:\n",
    "        if ic in seen:\n",
    "            #infinite loop\n",
    "            return None\n",
    "        if ic == len(prog):\n",
    "            # finished\n",
    "            return acc\n",
    "        ic, acc, seen, prog = step(ic, acc, seen, prog)"
   ]
  },
  {
   "cell_type": "raw",
   "metadata": {},
   "source": [
    "run2(exprog)"
   ]
  },
  {
   "cell_type": "code",
   "execution_count": 8,
   "metadata": {},
   "outputs": [
    {
     "data": {
      "text/plain": [
       "8"
      ]
     },
     "execution_count": 8,
     "metadata": {},
     "output_type": "execute_result"
    }
   ],
   "source": [
    "exprog2 = exprog.copy()\n",
    "exprog2[-2] = 'nop -4'\n",
    "run2(exprog2)"
   ]
  },
  {
   "cell_type": "code",
   "execution_count": 9,
   "metadata": {},
   "outputs": [],
   "source": [
    "def modify(prog):\n",
    "    for i, line in enumerate(prog):\n",
    "        if ('jmp' not in line) and ('nop' not in line):\n",
    "            continue\n",
    "        oldline = line\n",
    "        if 'jmp' in line:\n",
    "            prog[i] = line.replace('jmp', 'nop')\n",
    "        elif 'nop' in line:\n",
    "            prog[i] = line.replace('nop', 'jmp')\n",
    "        res = run2(prog)\n",
    "        if res is not None:\n",
    "            return res\n",
    "        prog[i] = oldline\n",
    "    raise ValueError('Did not work')\n",
    "    "
   ]
  },
  {
   "cell_type": "code",
   "execution_count": 10,
   "metadata": {},
   "outputs": [
    {
     "data": {
      "text/plain": [
       "8"
      ]
     },
     "execution_count": 10,
     "metadata": {},
     "output_type": "execute_result"
    }
   ],
   "source": [
    "modify(exprog)"
   ]
  },
  {
   "cell_type": "code",
   "execution_count": 11,
   "metadata": {},
   "outputs": [
    {
     "data": {
      "text/plain": [
       "1303"
      ]
     },
     "execution_count": 11,
     "metadata": {},
     "output_type": "execute_result"
    }
   ],
   "source": [
    "modify(dataprog)"
   ]
  },
  {
   "cell_type": "code",
   "execution_count": null,
   "metadata": {},
   "outputs": [],
   "source": []
  }
 ],
 "metadata": {
  "kernelspec": {
   "display_name": "Python 3",
   "language": "python",
   "name": "python3"
  },
  "language_info": {
   "codemirror_mode": {
    "name": "ipython",
    "version": 3
   },
   "file_extension": ".py",
   "mimetype": "text/x-python",
   "name": "python",
   "nbconvert_exporter": "python",
   "pygments_lexer": "ipython3",
   "version": "3.9.0"
  }
 },
 "nbformat": 4,
 "nbformat_minor": 4
}
