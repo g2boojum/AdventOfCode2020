{
 "cells": [
  {
   "cell_type": "markdown",
   "metadata": {},
   "source": [
    "## part 1 ##"
   ]
  },
  {
   "cell_type": "code",
   "execution_count": 1,
   "metadata": {},
   "outputs": [
    {
     "data": {
      "text/plain": [
       "['L.LL.LL.LL',\n",
       " 'LLLLLLL.LL',\n",
       " 'L.L.L..L..',\n",
       " 'LLLL.LL.LL',\n",
       " 'L.LL.LL.LL',\n",
       " 'L.LLLLL.LL',\n",
       " '..L.L.....',\n",
       " 'LLLLLLLLLL',\n",
       " 'L.LLLLLL.L',\n",
       " 'L.LLLLL.LL']"
      ]
     },
     "execution_count": 1,
     "metadata": {},
     "output_type": "execute_result"
    }
   ],
   "source": [
    "ex = '''L.LL.LL.LL\n",
    "LLLLLLL.LL\n",
    "L.L.L..L..\n",
    "LLLL.LL.LL\n",
    "L.LL.LL.LL\n",
    "L.LLLLL.LL\n",
    "..L.L.....\n",
    "LLLLLLLLLL\n",
    "L.LLLLLL.L\n",
    "L.LLLLL.LL\n",
    "'''.strip().split('\\n')\n",
    "ex"
   ]
  },
  {
   "cell_type": "code",
   "execution_count": 2,
   "metadata": {},
   "outputs": [],
   "source": [
    "def build_layout(lines):\n",
    "    layout = {}\n",
    "    for row, line in enumerate(lines):\n",
    "        for pos, char in enumerate(line):\n",
    "            if char == 'L':\n",
    "                layout[(row, pos)] = False\n",
    "            elif char == '#':\n",
    "                layout[(row, pos)] = True\n",
    "    return layout"
   ]
  },
  {
   "cell_type": "code",
   "execution_count": 3,
   "metadata": {},
   "outputs": [],
   "source": [
    "exocc = build_layout(ex)"
   ]
  },
  {
   "cell_type": "code",
   "execution_count": 4,
   "metadata": {},
   "outputs": [],
   "source": [
    "def get_adj_occ(seat, occ):\n",
    "    n = 0\n",
    "    row, pos = seat\n",
    "    adj_occupied = 0\n",
    "    for s in ((row-1, pos-1), (row-1, pos), (row-1, pos+1),\n",
    "              (row  , pos-1),               (row  , pos+1),\n",
    "              (row+1, pos-1), (row+1, pos), (row+1, pos+1)):\n",
    "        if (s in occ) and occ[s]:\n",
    "            adj_occupied += 1 \n",
    "    return adj_occupied"
   ]
  },
  {
   "cell_type": "code",
   "execution_count": 5,
   "metadata": {},
   "outputs": [],
   "source": [
    "def update_occ(occ):\n",
    "    newocc = occ.copy()\n",
    "    for seat in occ:\n",
    "        numadj = get_adj_occ(seat, occ)\n",
    "        if (not occ[seat]) and (numadj == 0):\n",
    "            newocc[seat] = True\n",
    "        elif occ[seat] and (numadj >= 4):\n",
    "            newocc[seat] = False\n",
    "        else:\n",
    "            newocc[seat] = occ[seat]\n",
    "    return newocc"
   ]
  },
  {
   "cell_type": "code",
   "execution_count": 6,
   "metadata": {},
   "outputs": [],
   "source": [
    "def process_rules(occ):\n",
    "    currocc = occ.copy()\n",
    "    while True:\n",
    "        newocc = update_occ(currocc)\n",
    "        if newocc == currocc:\n",
    "            break\n",
    "        currocc = newocc\n",
    "    return currocc"
   ]
  },
  {
   "cell_type": "code",
   "execution_count": 7,
   "metadata": {},
   "outputs": [],
   "source": [
    "def count_occ(occ):\n",
    "    return sum(occ[seat] for seat in occ)"
   ]
  },
  {
   "cell_type": "code",
   "execution_count": 8,
   "metadata": {},
   "outputs": [],
   "source": [
    "def print_occ(occ):\n",
    "    maxrow = max(key[0] for key in occ)+1\n",
    "    maxcol = max(key[1] for key in occ)+1\n",
    "    for line in range(maxrow):\n",
    "        s = []\n",
    "        for col in range(maxcol):\n",
    "            pos = (line, col)\n",
    "            if pos in occ:\n",
    "                if occ[pos]:\n",
    "                    s.append('#')\n",
    "                else:\n",
    "                    s.append('L')\n",
    "            else:\n",
    "                s.append('.')\n",
    "        print(''.join(s))"
   ]
  },
  {
   "cell_type": "code",
   "execution_count": 9,
   "metadata": {},
   "outputs": [
    {
     "name": "stdout",
     "output_type": "stream",
     "text": [
      "L.LL.LL.LL\n",
      "LLLLLLL.LL\n",
      "L.L.L..L..\n",
      "LLLL.LL.LL\n",
      "L.LL.LL.LL\n",
      "L.LLLLL.LL\n",
      "..L.L.....\n",
      "LLLLLLLLLL\n",
      "L.LLLLLL.L\n",
      "L.LLLLL.LL\n"
     ]
    }
   ],
   "source": [
    "print_occ(exocc)"
   ]
  },
  {
   "cell_type": "code",
   "execution_count": 10,
   "metadata": {},
   "outputs": [
    {
     "name": "stdout",
     "output_type": "stream",
     "text": [
      "#.#L.L#.##\n",
      "#LLL#LL.L#\n",
      "L.#.L..#..\n",
      "#L##.##.L#\n",
      "#.#L.LL.LL\n",
      "#.#L#L#.##\n",
      "..L.L.....\n",
      "#L#L##L#L#\n",
      "#.LLLLLL.L\n",
      "#.#L#L#.##\n"
     ]
    }
   ],
   "source": [
    "exprocessed = process_rules(exocc)\n",
    "print_occ(exprocessed)"
   ]
  },
  {
   "cell_type": "code",
   "execution_count": 11,
   "metadata": {},
   "outputs": [
    {
     "data": {
      "text/plain": [
       "37"
      ]
     },
     "execution_count": 11,
     "metadata": {},
     "output_type": "execute_result"
    }
   ],
   "source": [
    "count_occ(exprocessed)"
   ]
  },
  {
   "cell_type": "code",
   "execution_count": 12,
   "metadata": {},
   "outputs": [],
   "source": [
    "with open('inputs/day11.input') as fp:\n",
    "    data = fp.read().strip().split('\\n')"
   ]
  },
  {
   "cell_type": "code",
   "execution_count": 13,
   "metadata": {},
   "outputs": [],
   "source": [
    "dataocc = build_layout(data)\n",
    "dataprocessed = process_rules(dataocc)"
   ]
  },
  {
   "cell_type": "code",
   "execution_count": 14,
   "metadata": {},
   "outputs": [
    {
     "data": {
      "text/plain": [
       "2243"
      ]
     },
     "execution_count": 14,
     "metadata": {},
     "output_type": "execute_result"
    }
   ],
   "source": [
    "count_occ(dataprocessed)"
   ]
  },
  {
   "cell_type": "markdown",
   "metadata": {},
   "source": [
    "## part 2 ##"
   ]
  },
  {
   "cell_type": "code",
   "execution_count": 50,
   "metadata": {},
   "outputs": [],
   "source": [
    "def find_first(seat, vec, occ, size):\n",
    "    maxrow, maxcol = size\n",
    "    row, col = seat\n",
    "    while True:\n",
    "        row, col = row+vec[0], col+vec[1]\n",
    "        if (row < 0) or (row == maxrow):\n",
    "            return None\n",
    "        elif (col < 0) or (col == maxcol):\n",
    "            return None\n",
    "        elif (row, col) in occ:\n",
    "            return occ[(row, col)]"
   ]
  },
  {
   "cell_type": "code",
   "execution_count": 51,
   "metadata": {},
   "outputs": [
    {
     "data": {
      "text/plain": [
       "{(0, 7): True,\n",
       " (1, 3): True,\n",
       " (2, 1): True,\n",
       " (4, 2): True,\n",
       " (4, 3): False,\n",
       " (4, 8): True,\n",
       " (5, 4): True,\n",
       " (7, 0): True,\n",
       " (8, 3): True}"
      ]
     },
     "execution_count": 51,
     "metadata": {},
     "output_type": "execute_result"
    }
   ],
   "source": [
    "ex2 = '''.......#.\n",
    "...#.....\n",
    ".#.......\n",
    ".........\n",
    "..#L....#\n",
    "....#....\n",
    ".........\n",
    "#........\n",
    "...#.....'''.strip().split('\\n')\n",
    "ex2occ = build_layout(ex2)\n",
    "ex2occ"
   ]
  },
  {
   "cell_type": "code",
   "execution_count": 52,
   "metadata": {},
   "outputs": [
    {
     "data": {
      "text/plain": [
       "True"
      ]
     },
     "execution_count": 52,
     "metadata": {},
     "output_type": "execute_result"
    }
   ],
   "source": [
    "find_first((4,3), (+1,+1), ex2occ, (9, 9))"
   ]
  },
  {
   "cell_type": "code",
   "execution_count": 57,
   "metadata": {},
   "outputs": [],
   "source": [
    "def get_vis_occ(seat, occ, size):\n",
    "    dirs = [(-1, 0), (+1, 0), (0, -1), (0, +1),\n",
    "            (-1, -1), (-1, +1), (+1, -1), (+1, +1)]\n",
    "    s = 0\n",
    "    for vec in dirs:\n",
    "        visible = find_first(seat, vec, occ, size)\n",
    "        if visible is not None:\n",
    "            s += int(visible)\n",
    "    return s"
   ]
  },
  {
   "cell_type": "code",
   "execution_count": 58,
   "metadata": {},
   "outputs": [
    {
     "data": {
      "text/plain": [
       "8"
      ]
     },
     "execution_count": 58,
     "metadata": {},
     "output_type": "execute_result"
    }
   ],
   "source": [
    "get_vis_occ((4,3), ex2occ, (9,9))"
   ]
  },
  {
   "cell_type": "code",
   "execution_count": 59,
   "metadata": {},
   "outputs": [
    {
     "data": {
      "text/plain": [
       "{(1, 1): False,\n",
       " (1, 3): False,\n",
       " (1, 5): True,\n",
       " (1, 7): True,\n",
       " (1, 9): True,\n",
       " (1, 11): True}"
      ]
     },
     "execution_count": 59,
     "metadata": {},
     "output_type": "execute_result"
    }
   ],
   "source": [
    "ex3 = '''.............\n",
    ".L.L.#.#.#.#.\n",
    ".............'''.strip().split('\\n')\n",
    "ex3occ = build_layout(ex3)\n",
    "ex3occ"
   ]
  },
  {
   "cell_type": "code",
   "execution_count": 60,
   "metadata": {},
   "outputs": [
    {
     "data": {
      "text/plain": [
       "0"
      ]
     },
     "execution_count": 60,
     "metadata": {},
     "output_type": "execute_result"
    }
   ],
   "source": [
    "get_vis_occ((1,1), ex3occ, (3,12))"
   ]
  },
  {
   "cell_type": "code",
   "execution_count": 65,
   "metadata": {},
   "outputs": [],
   "source": [
    "def update_occ2(occ):\n",
    "    maxrow = max(key[0] for key in occ)+1\n",
    "    maxcol = max(key[1] for key in occ)+1\n",
    "    size = (maxrow, maxcol)\n",
    "    newocc = occ.copy()\n",
    "    for seat in occ:\n",
    "        numvis = get_vis_occ(seat, occ, size)\n",
    "        if (not occ[seat]) and (numvis == 0):\n",
    "            newocc[seat] = True\n",
    "        elif occ[seat] and (numvis >= 5):\n",
    "            newocc[seat] = False\n",
    "        else:\n",
    "            newocc[seat] = occ[seat]\n",
    "    return newocc"
   ]
  },
  {
   "cell_type": "code",
   "execution_count": 66,
   "metadata": {},
   "outputs": [
    {
     "name": "stdout",
     "output_type": "stream",
     "text": [
      "#.##.##.##\n",
      "#######.##\n",
      "#.#.#..#..\n",
      "####.##.##\n",
      "#.##.##.##\n",
      "#.#####.##\n",
      "..#.#.....\n",
      "##########\n",
      "#.######.#\n",
      "#.#####.##\n"
     ]
    }
   ],
   "source": [
    "newocc = update_occ2(exocc)\n",
    "print_occ(newocc)"
   ]
  },
  {
   "cell_type": "code",
   "execution_count": 67,
   "metadata": {},
   "outputs": [
    {
     "name": "stdout",
     "output_type": "stream",
     "text": [
      "#.LL.LL.L#\n",
      "#LLLLLL.LL\n",
      "L.L.L..L..\n",
      "LLLL.LL.LL\n",
      "L.LL.LL.LL\n",
      "L.LLLLL.LL\n",
      "..L.L.....\n",
      "LLLLLLLLL#\n",
      "#.LLLLLL.L\n",
      "#.LLLLL.L#\n"
     ]
    }
   ],
   "source": [
    "newocc = update_occ2(newocc)\n",
    "print_occ(newocc)"
   ]
  },
  {
   "cell_type": "code",
   "execution_count": 68,
   "metadata": {},
   "outputs": [],
   "source": [
    "def process_rules2(occ):\n",
    "    currocc = occ.copy()\n",
    "    while True:\n",
    "        newocc = update_occ2(currocc)\n",
    "        if newocc == currocc:\n",
    "            break\n",
    "        currocc = newocc\n",
    "    return currocc"
   ]
  },
  {
   "cell_type": "code",
   "execution_count": 70,
   "metadata": {},
   "outputs": [
    {
     "name": "stdout",
     "output_type": "stream",
     "text": [
      "#.L#.L#.L#\n",
      "#LLLLLL.LL\n",
      "L.L.L..#..\n",
      "##L#.#L.L#\n",
      "L.L#.LL.L#\n",
      "#.LLLL#.LL\n",
      "..#.L.....\n",
      "LLL###LLL#\n",
      "#.LLLLL#.L\n",
      "#.L#LL#.L#\n"
     ]
    }
   ],
   "source": [
    "exproc2 = process_rules2(exocc)\n",
    "print_occ(exproc2)"
   ]
  },
  {
   "cell_type": "code",
   "execution_count": 72,
   "metadata": {},
   "outputs": [
    {
     "data": {
      "text/plain": [
       "26"
      ]
     },
     "execution_count": 72,
     "metadata": {},
     "output_type": "execute_result"
    }
   ],
   "source": [
    "count_occ(exproc2)"
   ]
  },
  {
   "cell_type": "code",
   "execution_count": 71,
   "metadata": {},
   "outputs": [],
   "source": [
    "dataproc2 = process_rules2(dataocc)"
   ]
  },
  {
   "cell_type": "code",
   "execution_count": 73,
   "metadata": {},
   "outputs": [
    {
     "data": {
      "text/plain": [
       "2027"
      ]
     },
     "execution_count": 73,
     "metadata": {},
     "output_type": "execute_result"
    }
   ],
   "source": [
    "count_occ(dataproc2)"
   ]
  },
  {
   "cell_type": "code",
   "execution_count": null,
   "metadata": {},
   "outputs": [],
   "source": []
  }
 ],
 "metadata": {
  "kernelspec": {
   "display_name": "Python 3",
   "language": "python",
   "name": "python3"
  },
  "language_info": {
   "codemirror_mode": {
    "name": "ipython",
    "version": 3
   },
   "file_extension": ".py",
   "mimetype": "text/x-python",
   "name": "python",
   "nbconvert_exporter": "python",
   "pygments_lexer": "ipython3",
   "version": "3.9.0"
  }
 },
 "nbformat": 4,
 "nbformat_minor": 4
}
