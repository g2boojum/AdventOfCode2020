{
 "cells": [
  {
   "cell_type": "markdown",
   "metadata": {},
   "source": [
    "## part 1 ##"
   ]
  },
  {
   "cell_type": "code",
   "execution_count": null,
   "metadata": {},
   "outputs": [],
   "source": [
    "ex = '''939\n",
    "7,13,x,x,59,x,31,19'''.strip().split('\\n')\n",
    "ex"
   ]
  },
  {
   "cell_type": "code",
   "execution_count": 2,
   "metadata": {},
   "outputs": [
    {
     "data": {
      "text/plain": [
       "(939, [7, 13, 59, 31, 19])"
      ]
     },
     "execution_count": 2,
     "metadata": {},
     "output_type": "execute_result"
    }
   ],
   "source": [
    "def parse_lines(lines):\n",
    "    t = int(lines[0])\n",
    "    buses = [int(bus) for bus in lines[1].split(',') if bus != 'x']\n",
    "    return t, buses\n",
    "parse_lines(ex)"
   ]
  },
  {
   "cell_type": "code",
   "execution_count": 3,
   "metadata": {},
   "outputs": [],
   "source": [
    "def next_departure(t, bus):\n",
    "    t_since_last = t % bus\n",
    "    prev = t - (t % bus)\n",
    "    if prev == t:\n",
    "        return t\n",
    "    return prev + bus"
   ]
  },
  {
   "cell_type": "code",
   "execution_count": 4,
   "metadata": {},
   "outputs": [],
   "source": [
    "def earliest_bus(t, buses):\n",
    "    next_deps = [next_departure(t, bus) for bus in buses]\n",
    "    earliest = min(next_deps)\n",
    "    minidx = next_deps.index(earliest)\n",
    "    bus = buses[minidx]\n",
    "    return earliest, bus"
   ]
  },
  {
   "cell_type": "code",
   "execution_count": 5,
   "metadata": {},
   "outputs": [
    {
     "name": "stdout",
     "output_type": "stream",
     "text": [
      "944 59 295\n"
     ]
    }
   ],
   "source": [
    "ext, exbuses = parse_lines(ex)\n",
    "exdepar, exbus = earliest_bus(ext, exbuses)\n",
    "print(exdepar, exbus, exbus*(exdepar - ext))"
   ]
  },
  {
   "cell_type": "code",
   "execution_count": 6,
   "metadata": {},
   "outputs": [
    {
     "data": {
      "text/plain": [
       "(1000067, [17, 37, 439, 29, 13, 23, 787, 41, 19])"
      ]
     },
     "execution_count": 6,
     "metadata": {},
     "output_type": "execute_result"
    }
   ],
   "source": [
    "with open('inputs/day13.input') as fp:\n",
    "    data = fp.read().strip().split('\\n')\n",
    "datat, databuses = parse_lines(data)\n",
    "datat, databuses"
   ]
  },
  {
   "cell_type": "code",
   "execution_count": 7,
   "metadata": {},
   "outputs": [
    {
     "name": "stdout",
     "output_type": "stream",
     "text": [
      "1000072 41 205\n"
     ]
    }
   ],
   "source": [
    "datadepar, databus = earliest_bus(datat, databuses)\n",
    "print(datadepar, databus, databus*(datadepar - datat))"
   ]
  },
  {
   "cell_type": "markdown",
   "metadata": {},
   "source": [
    "## part 2 ##"
   ]
  },
  {
   "cell_type": "code",
   "execution_count": 8,
   "metadata": {},
   "outputs": [],
   "source": [
    "def parse_lines2(lines):\n",
    "    items = [s for s in lines[1].split(',')]\n",
    "    buses = [int(i) for i in items if i != 'x']\n",
    "    intervals = [items.index(i) for i in items if i != 'x']\n",
    "    return buses, intervals"
   ]
  },
  {
   "cell_type": "code",
   "execution_count": 9,
   "metadata": {},
   "outputs": [
    {
     "data": {
      "text/plain": [
       "([7, 13, 59, 31, 19], [0, 1, 4, 6, 7])"
      ]
     },
     "execution_count": 9,
     "metadata": {},
     "output_type": "execute_result"
    }
   ],
   "source": [
    "exbuses, exintervals = parse_lines2(ex)\n",
    "exbuses, exintervals"
   ]
  },
  {
   "cell_type": "code",
   "execution_count": 10,
   "metadata": {},
   "outputs": [],
   "source": [
    "def calc_intervals(t, buses):\n",
    "    return [next_departure(t, bus)-t for bus in buses]"
   ]
  },
  {
   "cell_type": "code",
   "execution_count": 11,
   "metadata": {},
   "outputs": [
    {
     "data": {
      "text/plain": [
       "[0, 1, 4, 6, 7]"
      ]
     },
     "execution_count": 11,
     "metadata": {},
     "output_type": "execute_result"
    }
   ],
   "source": [
    "calc_intervals(1068781, exbuses)"
   ]
  },
  {
   "cell_type": "code",
   "execution_count": 12,
   "metadata": {},
   "outputs": [],
   "source": [
    "def find_time(buses, intervals):\n",
    "    maxbus = max(buses)\n",
    "    maxidx = buses.index(maxbus)\n",
    "    t = maxbus - intervals[maxidx]\n",
    "    while True:\n",
    "        if intervals == calc_intervals(t, buses):\n",
    "            return t\n",
    "        t += maxbus"
   ]
  },
  {
   "cell_type": "code",
   "execution_count": 13,
   "metadata": {},
   "outputs": [
    {
     "data": {
      "text/plain": [
       "1068781"
      ]
     },
     "execution_count": 13,
     "metadata": {},
     "output_type": "execute_result"
    }
   ],
   "source": [
    "find_time(exbuses, exintervals)"
   ]
  },
  {
   "cell_type": "code",
   "execution_count": 14,
   "metadata": {},
   "outputs": [
    {
     "data": {
      "text/plain": [
       "1202161486"
      ]
     },
     "execution_count": 14,
     "metadata": {},
     "output_type": "execute_result"
    }
   ],
   "source": [
    "ex2 = '111\\n1789,37,47,1889\\n'.strip().split('\\n')\n",
    "ex2buses, ex2intervals = parse_lines2(ex2)\n",
    "find_time(ex2buses, ex2intervals)"
   ]
  },
  {
   "cell_type": "code",
   "execution_count": 15,
   "metadata": {},
   "outputs": [
    {
     "name": "stdout",
     "output_type": "stream",
     "text": [
      "[17, 37, 439, 29, 13, 23, 787, 41, 19] [0, 11, 17, 19, 30, 40, 48, 58, 67]\n"
     ]
    }
   ],
   "source": [
    "databuses, dataintervals = parse_lines2(data)\n",
    "print(databuses, dataintervals)"
   ]
  },
  {
   "cell_type": "markdown",
   "metadata": {},
   "source": [
    "The naive approach takes far too long. Stealing from nedbat (https://github.com/nedbat/adventofcode2020/blob/main/helpers.py), who says \"chinese remainder theorem\" is trending on Google, and \"modular multiplicative inverse\" is the key wikipedia page: "
   ]
  },
  {
   "cell_type": "code",
   "execution_count": 16,
   "metadata": {},
   "outputs": [],
   "source": [
    "import functools\n",
    "import math\n",
    "\n",
    "def product(nums):\n",
    "    return functools.reduce((lambda a, b: a * b), nums)\n",
    "\n",
    "def lcm2(a, b):\n",
    "    return int(a * b / math.gcd(a, b))\n",
    "\n",
    "def lcm(nums):\n",
    "    return functools.reduce(lcm2, nums)\n",
    "\n",
    "def modular_inverse(a, m):\n",
    "    m0 = m\n",
    "    y = 0\n",
    "    x = 1\n",
    "\n",
    "    if m == 1:\n",
    "        return 0\n",
    "\n",
    "    while a > 1:\n",
    "        # q is quotient\n",
    "        if m == 0:\n",
    "            return None\n",
    "        q = a // m\n",
    "\n",
    "        t = m\n",
    "\n",
    "        # m is remainder now, process\n",
    "        # same as Euclid's algo\n",
    "        m = a % m\n",
    "        a = t\n",
    "        t = y\n",
    "\n",
    "        # Update x and y\n",
    "        y = x - q * y\n",
    "        x = t\n",
    "\n",
    "    # Make x positive\n",
    "    if x < 0:\n",
    "        x += m0\n",
    "\n",
    "    return x\n"
   ]
  },
  {
   "cell_type": "code",
   "execution_count": 17,
   "metadata": {},
   "outputs": [],
   "source": [
    "def part2(bus_ids):\n",
    "    base_mods = [(b, m) for m, b in enumerate(bus_ids) if b is not None]\n",
    "    bases = [b for b, _ in base_mods]\n",
    "    p = product(bases)\n",
    "    x = 0\n",
    "    for b, m in base_mods:\n",
    "        pp = p // b\n",
    "        x += modular_inverse(pp, b) * pp * (b - m)\n",
    "    return x % lcm(bases)"
   ]
  },
  {
   "cell_type": "code",
   "execution_count": 18,
   "metadata": {},
   "outputs": [
    {
     "data": {
      "text/plain": [
       "1068781"
      ]
     },
     "execution_count": 18,
     "metadata": {},
     "output_type": "execute_result"
    }
   ],
   "source": [
    "part2([7,13,None,None,59,None,31,19])"
   ]
  },
  {
   "cell_type": "code",
   "execution_count": 19,
   "metadata": {},
   "outputs": [],
   "source": [
    "bus_ids = []\n",
    "for item in data[1].strip().split(','):\n",
    "    if item == 'x':\n",
    "        bus_ids.append(None)\n",
    "    else:\n",
    "        bus_ids.append(int(item))\n"
   ]
  },
  {
   "cell_type": "code",
   "execution_count": 20,
   "metadata": {},
   "outputs": [
    {
     "data": {
      "text/plain": [
       "803025030761664"
      ]
     },
     "execution_count": 20,
     "metadata": {},
     "output_type": "execute_result"
    }
   ],
   "source": [
    "part2(bus_ids)"
   ]
  },
  {
   "cell_type": "code",
   "execution_count": 21,
   "metadata": {},
   "outputs": [],
   "source": [
    "base_mods = [(b, m) for m, b in enumerate(bus_ids) if b is not None]\n",
    "bases = [b for b, _ in base_mods]\n",
    "p = product(bases)"
   ]
  },
  {
   "cell_type": "code",
   "execution_count": 22,
   "metadata": {},
   "outputs": [
    {
     "data": {
      "text/plain": [
       "[(17, 0),\n",
       " (37, 11),\n",
       " (439, 17),\n",
       " (29, 19),\n",
       " (13, 30),\n",
       " (23, 40),\n",
       " (787, 48),\n",
       " (41, 58),\n",
       " (19, 67)]"
      ]
     },
     "execution_count": 22,
     "metadata": {},
     "output_type": "execute_result"
    }
   ],
   "source": [
    "base_mods"
   ]
  },
  {
   "cell_type": "code",
   "execution_count": 23,
   "metadata": {},
   "outputs": [
    {
     "data": {
      "text/plain": [
       "1467900241541773"
      ]
     },
     "execution_count": 23,
     "metadata": {},
     "output_type": "execute_result"
    }
   ],
   "source": [
    "p"
   ]
  },
  {
   "cell_type": "code",
   "execution_count": 24,
   "metadata": {},
   "outputs": [
    {
     "data": {
      "text/plain": [
       "1467900241541773"
      ]
     },
     "execution_count": 24,
     "metadata": {},
     "output_type": "execute_result"
    }
   ],
   "source": [
    "lcm(bases)"
   ]
  },
  {
   "cell_type": "code",
   "execution_count": 25,
   "metadata": {},
   "outputs": [
    {
     "name": "stdout",
     "output_type": "stream",
     "text": [
      "86347073031869 23486403864668368\n",
      "39672979501129 33801378534961908\n",
      "3343736313307 42267718880255232\n",
      "50617249708337 44292408868588712\n",
      "112915403195521 25096790325350142\n",
      "63821749632251 12077153400370938\n",
      "1865184550879 76860608406051245\n",
      "35802444915653 59210003062634316\n",
      "77257907449567 18417827929262940\n"
     ]
    }
   ],
   "source": [
    "x = 0\n",
    "for b, m in base_mods:\n",
    "    pp = p // b\n",
    "    x += modular_inverse(pp, b) * pp * (b - m)\n",
    "    print(pp, x)"
   ]
  },
  {
   "cell_type": "code",
   "execution_count": 26,
   "metadata": {},
   "outputs": [
    {
     "data": {
      "text/plain": [
       "803025030761664"
      ]
     },
     "execution_count": 26,
     "metadata": {},
     "output_type": "execute_result"
    }
   ],
   "source": [
    "x % p"
   ]
  },
  {
   "cell_type": "code",
   "execution_count": null,
   "metadata": {},
   "outputs": [],
   "source": []
  }
 ],
 "metadata": {
  "kernelspec": {
   "display_name": "Python 3",
   "language": "python",
   "name": "python3"
  },
  "language_info": {
   "codemirror_mode": {
    "name": "ipython",
    "version": 3
   },
   "file_extension": ".py",
   "mimetype": "text/x-python",
   "name": "python",
   "nbconvert_exporter": "python",
   "pygments_lexer": "ipython3",
   "version": "3.9.0"
  }
 },
 "nbformat": 4,
 "nbformat_minor": 4
}
